{
 "cells": [
  {
   "cell_type": "markdown",
   "metadata": {
    "collapsed": true
   },
   "source": [
    "# Predicting House Sale Prices Using Linear Regression\n",
    "In this project, we'll predict the sale prices of houses in Ames, Iowa using its attributes. Our goal is to build this predictive model using Linear Regression. More details about the dataset [here](http://jse.amstat.org/v19n3/decock/DataDocumentation.txt).\n",
    "\n",
    "### Summary of Results\n",
    "Our Linear Regression model has an average R2 score of 0.877 and an average RMSE of 27409.5. "
   ]
  },
  {
   "cell_type": "markdown",
   "metadata": {},
   "source": [
    "## Introduction to the Dataset"
   ]
  },
  {
   "cell_type": "code",
   "execution_count": 1,
   "metadata": {},
   "outputs": [],
   "source": [
    "import pandas as pd\n",
    "import matplotlib.pyplot as plt\n",
    "import numpy as np\n",
    "from sklearn.linear_model import LinearRegression\n",
    "from sklearn.metrics import mean_squared_error, r2_score\n",
    "from sklearn.model_selection import KFold, cross_val_score, cross_validate"
   ]
  },
  {
   "cell_type": "code",
   "execution_count": 2,
   "metadata": {},
   "outputs": [
    {
     "data": {
      "text/html": [
       "<div>\n",
       "<style scoped>\n",
       "    .dataframe tbody tr th:only-of-type {\n",
       "        vertical-align: middle;\n",
       "    }\n",
       "\n",
       "    .dataframe tbody tr th {\n",
       "        vertical-align: top;\n",
       "    }\n",
       "\n",
       "    .dataframe thead th {\n",
       "        text-align: right;\n",
       "    }\n",
       "</style>\n",
       "<table border=\"1\" class=\"dataframe\">\n",
       "  <thead>\n",
       "    <tr style=\"text-align: right;\">\n",
       "      <th></th>\n",
       "      <th>Order</th>\n",
       "      <th>PID</th>\n",
       "      <th>MS SubClass</th>\n",
       "      <th>MS Zoning</th>\n",
       "      <th>Lot Frontage</th>\n",
       "      <th>Lot Area</th>\n",
       "      <th>Street</th>\n",
       "      <th>Alley</th>\n",
       "      <th>Lot Shape</th>\n",
       "      <th>Land Contour</th>\n",
       "      <th>...</th>\n",
       "      <th>Pool Area</th>\n",
       "      <th>Pool QC</th>\n",
       "      <th>Fence</th>\n",
       "      <th>Misc Feature</th>\n",
       "      <th>Misc Val</th>\n",
       "      <th>Mo Sold</th>\n",
       "      <th>Yr Sold</th>\n",
       "      <th>Sale Type</th>\n",
       "      <th>Sale Condition</th>\n",
       "      <th>SalePrice</th>\n",
       "    </tr>\n",
       "  </thead>\n",
       "  <tbody>\n",
       "    <tr>\n",
       "      <th>0</th>\n",
       "      <td>1</td>\n",
       "      <td>526301100</td>\n",
       "      <td>20</td>\n",
       "      <td>RL</td>\n",
       "      <td>141.0</td>\n",
       "      <td>31770</td>\n",
       "      <td>Pave</td>\n",
       "      <td>NaN</td>\n",
       "      <td>IR1</td>\n",
       "      <td>Lvl</td>\n",
       "      <td>...</td>\n",
       "      <td>0</td>\n",
       "      <td>NaN</td>\n",
       "      <td>NaN</td>\n",
       "      <td>NaN</td>\n",
       "      <td>0</td>\n",
       "      <td>5</td>\n",
       "      <td>2010</td>\n",
       "      <td>WD</td>\n",
       "      <td>Normal</td>\n",
       "      <td>215000</td>\n",
       "    </tr>\n",
       "    <tr>\n",
       "      <th>1</th>\n",
       "      <td>2</td>\n",
       "      <td>526350040</td>\n",
       "      <td>20</td>\n",
       "      <td>RH</td>\n",
       "      <td>80.0</td>\n",
       "      <td>11622</td>\n",
       "      <td>Pave</td>\n",
       "      <td>NaN</td>\n",
       "      <td>Reg</td>\n",
       "      <td>Lvl</td>\n",
       "      <td>...</td>\n",
       "      <td>0</td>\n",
       "      <td>NaN</td>\n",
       "      <td>MnPrv</td>\n",
       "      <td>NaN</td>\n",
       "      <td>0</td>\n",
       "      <td>6</td>\n",
       "      <td>2010</td>\n",
       "      <td>WD</td>\n",
       "      <td>Normal</td>\n",
       "      <td>105000</td>\n",
       "    </tr>\n",
       "    <tr>\n",
       "      <th>2</th>\n",
       "      <td>3</td>\n",
       "      <td>526351010</td>\n",
       "      <td>20</td>\n",
       "      <td>RL</td>\n",
       "      <td>81.0</td>\n",
       "      <td>14267</td>\n",
       "      <td>Pave</td>\n",
       "      <td>NaN</td>\n",
       "      <td>IR1</td>\n",
       "      <td>Lvl</td>\n",
       "      <td>...</td>\n",
       "      <td>0</td>\n",
       "      <td>NaN</td>\n",
       "      <td>NaN</td>\n",
       "      <td>Gar2</td>\n",
       "      <td>12500</td>\n",
       "      <td>6</td>\n",
       "      <td>2010</td>\n",
       "      <td>WD</td>\n",
       "      <td>Normal</td>\n",
       "      <td>172000</td>\n",
       "    </tr>\n",
       "    <tr>\n",
       "      <th>3</th>\n",
       "      <td>4</td>\n",
       "      <td>526353030</td>\n",
       "      <td>20</td>\n",
       "      <td>RL</td>\n",
       "      <td>93.0</td>\n",
       "      <td>11160</td>\n",
       "      <td>Pave</td>\n",
       "      <td>NaN</td>\n",
       "      <td>Reg</td>\n",
       "      <td>Lvl</td>\n",
       "      <td>...</td>\n",
       "      <td>0</td>\n",
       "      <td>NaN</td>\n",
       "      <td>NaN</td>\n",
       "      <td>NaN</td>\n",
       "      <td>0</td>\n",
       "      <td>4</td>\n",
       "      <td>2010</td>\n",
       "      <td>WD</td>\n",
       "      <td>Normal</td>\n",
       "      <td>244000</td>\n",
       "    </tr>\n",
       "    <tr>\n",
       "      <th>4</th>\n",
       "      <td>5</td>\n",
       "      <td>527105010</td>\n",
       "      <td>60</td>\n",
       "      <td>RL</td>\n",
       "      <td>74.0</td>\n",
       "      <td>13830</td>\n",
       "      <td>Pave</td>\n",
       "      <td>NaN</td>\n",
       "      <td>IR1</td>\n",
       "      <td>Lvl</td>\n",
       "      <td>...</td>\n",
       "      <td>0</td>\n",
       "      <td>NaN</td>\n",
       "      <td>MnPrv</td>\n",
       "      <td>NaN</td>\n",
       "      <td>0</td>\n",
       "      <td>3</td>\n",
       "      <td>2010</td>\n",
       "      <td>WD</td>\n",
       "      <td>Normal</td>\n",
       "      <td>189900</td>\n",
       "    </tr>\n",
       "    <tr>\n",
       "      <th>...</th>\n",
       "      <td>...</td>\n",
       "      <td>...</td>\n",
       "      <td>...</td>\n",
       "      <td>...</td>\n",
       "      <td>...</td>\n",
       "      <td>...</td>\n",
       "      <td>...</td>\n",
       "      <td>...</td>\n",
       "      <td>...</td>\n",
       "      <td>...</td>\n",
       "      <td>...</td>\n",
       "      <td>...</td>\n",
       "      <td>...</td>\n",
       "      <td>...</td>\n",
       "      <td>...</td>\n",
       "      <td>...</td>\n",
       "      <td>...</td>\n",
       "      <td>...</td>\n",
       "      <td>...</td>\n",
       "      <td>...</td>\n",
       "      <td>...</td>\n",
       "    </tr>\n",
       "    <tr>\n",
       "      <th>2925</th>\n",
       "      <td>2926</td>\n",
       "      <td>923275080</td>\n",
       "      <td>80</td>\n",
       "      <td>RL</td>\n",
       "      <td>37.0</td>\n",
       "      <td>7937</td>\n",
       "      <td>Pave</td>\n",
       "      <td>NaN</td>\n",
       "      <td>IR1</td>\n",
       "      <td>Lvl</td>\n",
       "      <td>...</td>\n",
       "      <td>0</td>\n",
       "      <td>NaN</td>\n",
       "      <td>GdPrv</td>\n",
       "      <td>NaN</td>\n",
       "      <td>0</td>\n",
       "      <td>3</td>\n",
       "      <td>2006</td>\n",
       "      <td>WD</td>\n",
       "      <td>Normal</td>\n",
       "      <td>142500</td>\n",
       "    </tr>\n",
       "    <tr>\n",
       "      <th>2926</th>\n",
       "      <td>2927</td>\n",
       "      <td>923276100</td>\n",
       "      <td>20</td>\n",
       "      <td>RL</td>\n",
       "      <td>NaN</td>\n",
       "      <td>8885</td>\n",
       "      <td>Pave</td>\n",
       "      <td>NaN</td>\n",
       "      <td>IR1</td>\n",
       "      <td>Low</td>\n",
       "      <td>...</td>\n",
       "      <td>0</td>\n",
       "      <td>NaN</td>\n",
       "      <td>MnPrv</td>\n",
       "      <td>NaN</td>\n",
       "      <td>0</td>\n",
       "      <td>6</td>\n",
       "      <td>2006</td>\n",
       "      <td>WD</td>\n",
       "      <td>Normal</td>\n",
       "      <td>131000</td>\n",
       "    </tr>\n",
       "    <tr>\n",
       "      <th>2927</th>\n",
       "      <td>2928</td>\n",
       "      <td>923400125</td>\n",
       "      <td>85</td>\n",
       "      <td>RL</td>\n",
       "      <td>62.0</td>\n",
       "      <td>10441</td>\n",
       "      <td>Pave</td>\n",
       "      <td>NaN</td>\n",
       "      <td>Reg</td>\n",
       "      <td>Lvl</td>\n",
       "      <td>...</td>\n",
       "      <td>0</td>\n",
       "      <td>NaN</td>\n",
       "      <td>MnPrv</td>\n",
       "      <td>Shed</td>\n",
       "      <td>700</td>\n",
       "      <td>7</td>\n",
       "      <td>2006</td>\n",
       "      <td>WD</td>\n",
       "      <td>Normal</td>\n",
       "      <td>132000</td>\n",
       "    </tr>\n",
       "    <tr>\n",
       "      <th>2928</th>\n",
       "      <td>2929</td>\n",
       "      <td>924100070</td>\n",
       "      <td>20</td>\n",
       "      <td>RL</td>\n",
       "      <td>77.0</td>\n",
       "      <td>10010</td>\n",
       "      <td>Pave</td>\n",
       "      <td>NaN</td>\n",
       "      <td>Reg</td>\n",
       "      <td>Lvl</td>\n",
       "      <td>...</td>\n",
       "      <td>0</td>\n",
       "      <td>NaN</td>\n",
       "      <td>NaN</td>\n",
       "      <td>NaN</td>\n",
       "      <td>0</td>\n",
       "      <td>4</td>\n",
       "      <td>2006</td>\n",
       "      <td>WD</td>\n",
       "      <td>Normal</td>\n",
       "      <td>170000</td>\n",
       "    </tr>\n",
       "    <tr>\n",
       "      <th>2929</th>\n",
       "      <td>2930</td>\n",
       "      <td>924151050</td>\n",
       "      <td>60</td>\n",
       "      <td>RL</td>\n",
       "      <td>74.0</td>\n",
       "      <td>9627</td>\n",
       "      <td>Pave</td>\n",
       "      <td>NaN</td>\n",
       "      <td>Reg</td>\n",
       "      <td>Lvl</td>\n",
       "      <td>...</td>\n",
       "      <td>0</td>\n",
       "      <td>NaN</td>\n",
       "      <td>NaN</td>\n",
       "      <td>NaN</td>\n",
       "      <td>0</td>\n",
       "      <td>11</td>\n",
       "      <td>2006</td>\n",
       "      <td>WD</td>\n",
       "      <td>Normal</td>\n",
       "      <td>188000</td>\n",
       "    </tr>\n",
       "  </tbody>\n",
       "</table>\n",
       "<p>2930 rows × 82 columns</p>\n",
       "</div>"
      ],
      "text/plain": [
       "      Order        PID  MS SubClass MS Zoning  Lot Frontage  Lot Area Street  \\\n",
       "0         1  526301100           20        RL         141.0     31770   Pave   \n",
       "1         2  526350040           20        RH          80.0     11622   Pave   \n",
       "2         3  526351010           20        RL          81.0     14267   Pave   \n",
       "3         4  526353030           20        RL          93.0     11160   Pave   \n",
       "4         5  527105010           60        RL          74.0     13830   Pave   \n",
       "...     ...        ...          ...       ...           ...       ...    ...   \n",
       "2925   2926  923275080           80        RL          37.0      7937   Pave   \n",
       "2926   2927  923276100           20        RL           NaN      8885   Pave   \n",
       "2927   2928  923400125           85        RL          62.0     10441   Pave   \n",
       "2928   2929  924100070           20        RL          77.0     10010   Pave   \n",
       "2929   2930  924151050           60        RL          74.0      9627   Pave   \n",
       "\n",
       "     Alley Lot Shape Land Contour  ... Pool Area Pool QC  Fence Misc Feature  \\\n",
       "0      NaN       IR1          Lvl  ...         0     NaN    NaN          NaN   \n",
       "1      NaN       Reg          Lvl  ...         0     NaN  MnPrv          NaN   \n",
       "2      NaN       IR1          Lvl  ...         0     NaN    NaN         Gar2   \n",
       "3      NaN       Reg          Lvl  ...         0     NaN    NaN          NaN   \n",
       "4      NaN       IR1          Lvl  ...         0     NaN  MnPrv          NaN   \n",
       "...    ...       ...          ...  ...       ...     ...    ...          ...   \n",
       "2925   NaN       IR1          Lvl  ...         0     NaN  GdPrv          NaN   \n",
       "2926   NaN       IR1          Low  ...         0     NaN  MnPrv          NaN   \n",
       "2927   NaN       Reg          Lvl  ...         0     NaN  MnPrv         Shed   \n",
       "2928   NaN       Reg          Lvl  ...         0     NaN    NaN          NaN   \n",
       "2929   NaN       Reg          Lvl  ...         0     NaN    NaN          NaN   \n",
       "\n",
       "     Misc Val Mo Sold Yr Sold Sale Type  Sale Condition  SalePrice  \n",
       "0           0       5    2010       WD           Normal     215000  \n",
       "1           0       6    2010       WD           Normal     105000  \n",
       "2       12500       6    2010       WD           Normal     172000  \n",
       "3           0       4    2010       WD           Normal     244000  \n",
       "4           0       3    2010       WD           Normal     189900  \n",
       "...       ...     ...     ...       ...             ...        ...  \n",
       "2925        0       3    2006       WD           Normal     142500  \n",
       "2926        0       6    2006       WD           Normal     131000  \n",
       "2927      700       7    2006       WD           Normal     132000  \n",
       "2928        0       4    2006       WD           Normal     170000  \n",
       "2929        0      11    2006       WD           Normal     188000  \n",
       "\n",
       "[2930 rows x 82 columns]"
      ]
     },
     "execution_count": 2,
     "metadata": {},
     "output_type": "execute_result"
    }
   ],
   "source": [
    "houses = pd.read_csv(\"AmesHousing.tsv\", delimiter=\"\\t\")\n",
    "houses"
   ]
  },
  {
   "cell_type": "markdown",
   "metadata": {},
   "source": [
    "Let's lay out the foundation of our functions for now and modify them later."
   ]
  },
  {
   "cell_type": "code",
   "execution_count": 3,
   "metadata": {},
   "outputs": [],
   "source": [
    "def transform_features(houses):\n",
    "    return houses"
   ]
  },
  {
   "cell_type": "code",
   "execution_count": 4,
   "metadata": {},
   "outputs": [],
   "source": [
    "def select_features(houses):\n",
    "    return houses[[\"Gr Liv Area\", \"SalePrice\"]]"
   ]
  },
  {
   "cell_type": "code",
   "execution_count": 5,
   "metadata": {},
   "outputs": [],
   "source": [
    "def train_and_test(houses):\n",
    "    train = houses[:1460]\n",
    "    test = houses[1460:]\n",
    "    \n",
    "    numerical_train = train.select_dtypes(include=['float', 'int'])\n",
    "    numerical_test = test.select_dtypes(include=['float', 'int'])\n",
    "    \n",
    "    features = numerical_train.columns.drop(\"SalePrice\")\n",
    "    \n",
    "    model = LinearRegression()\n",
    "    model.fit(train[features], train[\"SalePrice\"])\n",
    "    predictions = model.predict(test[features])\n",
    "    rmse = np.sqrt(mean_squared_error(test[\"SalePrice\"], predictions))\n",
    "    return rmse"
   ]
  },
  {
   "cell_type": "markdown",
   "metadata": {},
   "source": [
    "## Data Cleaning and Feature Engineering"
   ]
  },
  {
   "cell_type": "markdown",
   "metadata": {},
   "source": [
    "* Handle missing values:\n",
    "    * All columns:\n",
    "        * Drop any with 5% or more missing values.\n",
    "    * Text columns:\n",
    "        * Drop any with 1 or more missing values.\n",
    "    * Numerical columns:\n",
    "        * For columns with missing values, fill in with the most common value in that column.\n",
    "* What new features can we create that better capture the information in some of the features?\n",
    "* Which columns need to be dropped for other reasons?\n",
    "    * Which columns aren't useful for machine learning?\n",
    "    * Which columns leak data about the final sale?"
   ]
  },
  {
   "cell_type": "markdown",
   "metadata": {},
   "source": [
    "### Handle missing values"
   ]
  },
  {
   "cell_type": "markdown",
   "metadata": {},
   "source": [
    "All columns: Drop any with 5% or more missing values."
   ]
  },
  {
   "cell_type": "code",
   "execution_count": 6,
   "metadata": {},
   "outputs": [
    {
     "data": {
      "text/plain": [
       "Pool QC         2917\n",
       "Misc Feature    2824\n",
       "Alley           2732\n",
       "Fence           2358\n",
       "Fireplace Qu    1422\n",
       "                ... \n",
       "PID                0\n",
       "Central Air        0\n",
       "1st Flr SF         0\n",
       "2nd Flr SF         0\n",
       "SalePrice          0\n",
       "Length: 82, dtype: int64"
      ]
     },
     "execution_count": 6,
     "metadata": {},
     "output_type": "execute_result"
    }
   ],
   "source": [
    "#Number of missing values for each column in houses\n",
    "n_missing = houses.isnull().sum()\n",
    "n_missing.sort_values(ascending=False)"
   ]
  },
  {
   "cell_type": "code",
   "execution_count": 7,
   "metadata": {},
   "outputs": [
    {
     "data": {
      "text/plain": [
       "Lot Frontage      490\n",
       "Alley            2732\n",
       "Fireplace Qu     1422\n",
       "Garage Type       157\n",
       "Garage Yr Blt     159\n",
       "Garage Finish     159\n",
       "Garage Qual       159\n",
       "Garage Cond       159\n",
       "Pool QC          2917\n",
       "Fence            2358\n",
       "Misc Feature     2824\n",
       "dtype: int64"
      ]
     },
     "execution_count": 7,
     "metadata": {},
     "output_type": "execute_result"
    }
   ],
   "source": [
    "#Filter n_missing to columns with >=5% missing values\n",
    "missing_cols = n_missing[n_missing >= (0.05*len(houses))]\n",
    "\n",
    "#Drop missing_cols from houses\n",
    "houses = houses.drop(missing_cols.index, axis=1)\n",
    "\n",
    "missing_cols"
   ]
  },
  {
   "cell_type": "markdown",
   "metadata": {},
   "source": [
    "Text columns: Drop any with 1 or more missing values."
   ]
  },
  {
   "cell_type": "code",
   "execution_count": 8,
   "metadata": {},
   "outputs": [
    {
     "data": {
      "text/plain": [
       "Bsmt Exposure     83\n",
       "BsmtFin Type 2    81\n",
       "Bsmt Qual         80\n",
       "Bsmt Cond         80\n",
       "BsmtFin Type 1    80\n",
       "Mas Vnr Type      23\n",
       "Electrical         1\n",
       "Heating            0\n",
       "Foundation         0\n",
       "MS Zoning          0\n",
       "Exter Cond         0\n",
       "Central Air        0\n",
       "Kitchen Qual       0\n",
       "Functional         0\n",
       "Paved Drive        0\n",
       "Sale Type          0\n",
       "Heating QC         0\n",
       "Exter Qual         0\n",
       "Street             0\n",
       "Exterior 2nd       0\n",
       "Exterior 1st       0\n",
       "Roof Matl          0\n",
       "Roof Style         0\n",
       "House Style        0\n",
       "Bldg Type          0\n",
       "Condition 2        0\n",
       "Condition 1        0\n",
       "Neighborhood       0\n",
       "Land Slope         0\n",
       "Lot Config         0\n",
       "Utilities          0\n",
       "Land Contour       0\n",
       "Lot Shape          0\n",
       "Sale Condition     0\n",
       "dtype: int64"
      ]
     },
     "execution_count": 8,
     "metadata": {},
     "output_type": "execute_result"
    }
   ],
   "source": [
    "#Number of missing values for each text column in houses\n",
    "text_cols = houses.select_dtypes(include=['object']).columns\n",
    "n_missing_text = houses[text_cols].isnull().sum().sort_values(ascending=False)\n",
    "n_missing_text"
   ]
  },
  {
   "cell_type": "code",
   "execution_count": 9,
   "metadata": {},
   "outputs": [],
   "source": [
    "#Drop any text column with missing values\n",
    "houses = houses.drop(n_missing_text[n_missing_text > 0].index, axis=1)"
   ]
  },
  {
   "cell_type": "markdown",
   "metadata": {},
   "source": [
    "Numerical columns: For columns with missing values, fill in with the most common value in that column."
   ]
  },
  {
   "cell_type": "code",
   "execution_count": 10,
   "metadata": {},
   "outputs": [
    {
     "data": {
      "text/plain": [
       "Mas Vnr Area       23\n",
       "Bsmt Half Bath      2\n",
       "Bsmt Full Bath      2\n",
       "Garage Cars         1\n",
       "Garage Area         1\n",
       "Total Bsmt SF       1\n",
       "Bsmt Unf SF         1\n",
       "BsmtFin SF 1        1\n",
       "BsmtFin SF 2        1\n",
       "3Ssn Porch          0\n",
       "Kitchen AbvGr       0\n",
       "Screen Porch        0\n",
       "Pool Area           0\n",
       "Enclosed Porch      0\n",
       "Open Porch SF       0\n",
       "Wood Deck SF        0\n",
       "Misc Val            0\n",
       "Mo Sold             0\n",
       "Yr Sold             0\n",
       "Fireplaces          0\n",
       "TotRms AbvGrd       0\n",
       "Order               0\n",
       "Bedroom AbvGr       0\n",
       "Half Bath           0\n",
       "Full Bath           0\n",
       "PID                 0\n",
       "Gr Liv Area         0\n",
       "Low Qual Fin SF     0\n",
       "2nd Flr SF          0\n",
       "1st Flr SF          0\n",
       "Year Remod/Add      0\n",
       "Year Built          0\n",
       "Overall Cond        0\n",
       "Overall Qual        0\n",
       "Lot Area            0\n",
       "MS SubClass         0\n",
       "SalePrice           0\n",
       "dtype: int64"
      ]
     },
     "execution_count": 10,
     "metadata": {},
     "output_type": "execute_result"
    }
   ],
   "source": [
    "#Number of missing values for each numerical column in houses\n",
    "numerical_cols = houses.select_dtypes(include=[\"int\",\"float\"]).columns\n",
    "n_missing_numerical = houses[numerical_cols].isnull().sum().sort_values(ascending=False)\n",
    "n_missing_numerical"
   ]
  },
  {
   "cell_type": "code",
   "execution_count": 11,
   "metadata": {},
   "outputs": [],
   "source": [
    "#Filter non-zero missing values\n",
    "n_missing_numerical = n_missing_numerical[n_missing_numerical > 0]\n",
    "\n",
    "#Replace NA values in each column with the mode of that column\n",
    "col_mode = houses[n_missing_numerical.index].mode().to_dict(orient='records')[0]\n",
    "houses[n_missing_numerical.index] = houses[n_missing_numerical.index].fillna(col_mode)"
   ]
  },
  {
   "cell_type": "code",
   "execution_count": 12,
   "metadata": {
    "scrolled": true
   },
   "outputs": [
    {
     "data": {
      "text/plain": [
       "0    64\n",
       "dtype: int64"
      ]
     },
     "execution_count": 12,
     "metadata": {},
     "output_type": "execute_result"
    }
   ],
   "source": [
    "houses.isnull().sum().sort_values(ascending=False).value_counts()"
   ]
  },
  {
   "cell_type": "markdown",
   "metadata": {},
   "source": [
    "### Create new features\n",
    "What new features can we create that better capture the information in some of the features?"
   ]
  },
  {
   "cell_type": "code",
   "execution_count": 13,
   "metadata": {},
   "outputs": [
    {
     "data": {
      "text/html": [
       "<div>\n",
       "<style scoped>\n",
       "    .dataframe tbody tr th:only-of-type {\n",
       "        vertical-align: middle;\n",
       "    }\n",
       "\n",
       "    .dataframe tbody tr th {\n",
       "        vertical-align: top;\n",
       "    }\n",
       "\n",
       "    .dataframe thead th {\n",
       "        text-align: right;\n",
       "    }\n",
       "</style>\n",
       "<table border=\"1\" class=\"dataframe\">\n",
       "  <thead>\n",
       "    <tr style=\"text-align: right;\">\n",
       "      <th></th>\n",
       "      <th>Year Remod/Add</th>\n",
       "      <th>Year Built</th>\n",
       "    </tr>\n",
       "  </thead>\n",
       "  <tbody>\n",
       "    <tr>\n",
       "      <th>0</th>\n",
       "      <td>1960</td>\n",
       "      <td>1960</td>\n",
       "    </tr>\n",
       "    <tr>\n",
       "      <th>1</th>\n",
       "      <td>1961</td>\n",
       "      <td>1961</td>\n",
       "    </tr>\n",
       "    <tr>\n",
       "      <th>2</th>\n",
       "      <td>1958</td>\n",
       "      <td>1958</td>\n",
       "    </tr>\n",
       "    <tr>\n",
       "      <th>3</th>\n",
       "      <td>1968</td>\n",
       "      <td>1968</td>\n",
       "    </tr>\n",
       "    <tr>\n",
       "      <th>4</th>\n",
       "      <td>1998</td>\n",
       "      <td>1997</td>\n",
       "    </tr>\n",
       "  </tbody>\n",
       "</table>\n",
       "</div>"
      ],
      "text/plain": [
       "   Year Remod/Add  Year Built\n",
       "0            1960        1960\n",
       "1            1961        1961\n",
       "2            1958        1958\n",
       "3            1968        1968\n",
       "4            1998        1997"
      ]
     },
     "execution_count": 13,
     "metadata": {},
     "output_type": "execute_result"
    }
   ],
   "source": [
    "houses[[\"Year Remod/Add\", \"Year Built\"]].head()"
   ]
  },
  {
   "cell_type": "markdown",
   "metadata": {},
   "source": [
    "The two main issues with these features are:\n",
    "* Year values aren't representative of how old a house is\n",
    "* The `Year Remod/Add` column doesn't actually provide useful information for our Linear Regression model\n",
    "\n",
    "Year values don't do a good job of capturing how old a house is. Instead of the years certain events happened, we want the difference between those years. We'll now create two new columns that are more representative of how old a house is."
   ]
  },
  {
   "cell_type": "code",
   "execution_count": 14,
   "metadata": {},
   "outputs": [],
   "source": [
    "houses[\"Years Before Sale\"] = houses[\"Yr Sold\"] - houses[\"Year Built\"]\n",
    "houses[\"Years Since Remod\"] = houses[\"Yr Sold\"] - houses[\"Year Remod/Add\"]"
   ]
  },
  {
   "cell_type": "code",
   "execution_count": 15,
   "metadata": {},
   "outputs": [
    {
     "data": {
      "text/html": [
       "<div>\n",
       "<style scoped>\n",
       "    .dataframe tbody tr th:only-of-type {\n",
       "        vertical-align: middle;\n",
       "    }\n",
       "\n",
       "    .dataframe tbody tr th {\n",
       "        vertical-align: top;\n",
       "    }\n",
       "\n",
       "    .dataframe thead th {\n",
       "        text-align: right;\n",
       "    }\n",
       "</style>\n",
       "<table border=\"1\" class=\"dataframe\">\n",
       "  <thead>\n",
       "    <tr style=\"text-align: right;\">\n",
       "      <th></th>\n",
       "      <th>Years Before Sale</th>\n",
       "      <th>Years Since Remod</th>\n",
       "    </tr>\n",
       "  </thead>\n",
       "  <tbody>\n",
       "    <tr>\n",
       "      <th>0</th>\n",
       "      <td>50</td>\n",
       "      <td>50</td>\n",
       "    </tr>\n",
       "    <tr>\n",
       "      <th>1</th>\n",
       "      <td>49</td>\n",
       "      <td>49</td>\n",
       "    </tr>\n",
       "    <tr>\n",
       "      <th>2</th>\n",
       "      <td>52</td>\n",
       "      <td>52</td>\n",
       "    </tr>\n",
       "    <tr>\n",
       "      <th>3</th>\n",
       "      <td>42</td>\n",
       "      <td>42</td>\n",
       "    </tr>\n",
       "    <tr>\n",
       "      <th>4</th>\n",
       "      <td>13</td>\n",
       "      <td>12</td>\n",
       "    </tr>\n",
       "  </tbody>\n",
       "</table>\n",
       "</div>"
      ],
      "text/plain": [
       "   Years Before Sale  Years Since Remod\n",
       "0                 50                 50\n",
       "1                 49                 49\n",
       "2                 52                 52\n",
       "3                 42                 42\n",
       "4                 13                 12"
      ]
     },
     "execution_count": 15,
     "metadata": {},
     "output_type": "execute_result"
    }
   ],
   "source": [
    "houses[[\"Years Before Sale\", \"Years Since Remod\"]].head()"
   ]
  },
  {
   "cell_type": "code",
   "execution_count": 16,
   "metadata": {},
   "outputs": [
    {
     "data": {
      "text/plain": [
       "2180   -1\n",
       "Name: Years Before Sale, dtype: int64"
      ]
     },
     "execution_count": 16,
     "metadata": {},
     "output_type": "execute_result"
    }
   ],
   "source": [
    "houses[\"Years Before Sale\"][houses[\"Years Before Sale\"] < 0]"
   ]
  },
  {
   "cell_type": "code",
   "execution_count": 17,
   "metadata": {},
   "outputs": [
    {
     "data": {
      "text/plain": [
       "1702   -1\n",
       "2180   -2\n",
       "2181   -1\n",
       "Name: Years Since Remod, dtype: int64"
      ]
     },
     "execution_count": 17,
     "metadata": {},
     "output_type": "execute_result"
    }
   ],
   "source": [
    "houses[\"Years Since Remod\"][houses[\"Years Since Remod\"] < 0]"
   ]
  },
  {
   "cell_type": "code",
   "execution_count": 18,
   "metadata": {},
   "outputs": [],
   "source": [
    "#A negative number of years doesn't make sense, so we'll drop these rows\n",
    "houses = houses.drop([1702,2180,2181], axis=0)\n",
    "\n",
    "#We have no use for these original year columns anymore\n",
    "houses = houses.drop([\"Year Remod/Add\", \"Year Built\"], axis=1)"
   ]
  },
  {
   "cell_type": "markdown",
   "metadata": {},
   "source": [
    "### Drop columns\n",
    "* that are not useful for machine learning\n",
    "* that leak data about the final sale"
   ]
  },
  {
   "cell_type": "code",
   "execution_count": 19,
   "metadata": {},
   "outputs": [],
   "source": [
    "#Not useful for ML\n",
    "houses = houses.drop([\"PID\", \"Order\"], axis=1)\n",
    "\n",
    "#Leak data about the final sale\n",
    "houses = houses.drop([\"Sale Condition\", \"Sale Type\", \"Yr Sold\", \"Mo Sold\"], axis=1)"
   ]
  },
  {
   "cell_type": "markdown",
   "metadata": {},
   "source": [
    "Let's now update `transform_features()` to reflect all these changes for a cleaner look."
   ]
  },
  {
   "cell_type": "code",
   "execution_count": 20,
   "metadata": {},
   "outputs": [],
   "source": [
    "def transform_features(houses):\n",
    "    #Drop any col with 5% or more missing values\n",
    "    n_missing = houses.isnull().sum()\n",
    "    missing_cols = n_missing[n_missing >= (0.05*len(houses))]\n",
    "    houses = houses.drop(missing_cols.index, axis=1)\n",
    "    \n",
    "    #Drop any text col with 1 or more missing value(s)\n",
    "    text_cols = houses.select_dtypes(include=['object']).columns\n",
    "    n_missing_text = houses[text_cols].isnull().sum().sort_values(ascending=False)\n",
    "    houses = houses.drop(n_missing_text[n_missing_text > 0].index, axis=1)\n",
    "    \n",
    "    #For numerical cols with missing values, replace missing value with mode of column\n",
    "    numerical_cols = houses.select_dtypes(include=[\"int\",\"float\"]).columns\n",
    "    n_missing_numerical = houses[numerical_cols].isnull().sum().sort_values(ascending=False)\n",
    "    n_missing_numerical = n_missing_numerical[n_missing_numerical > 0]\n",
    "    col_mode = houses[n_missing_numerical.index].mode().to_dict(orient='records')[0]\n",
    "    houses[n_missing_numerical.index] = houses[n_missing_numerical.index].fillna(col_mode)\n",
    "    \n",
    "    #Create new features that better capture information\n",
    "    houses[\"Years Before Sale\"] = houses[\"Yr Sold\"] - houses[\"Year Built\"]\n",
    "    houses[\"Years Since Remod\"] = houses[\"Yr Sold\"] - houses[\"Year Remod/Add\"]\n",
    "    houses = houses.drop([1702,2180,2181], axis=0)\n",
    "    houses = houses.drop([\"Year Remod/Add\", \"Year Built\"], axis=1)\n",
    "    \n",
    "    #Drop columns that are not useful for ML or that leak data about the final sale\n",
    "    houses = houses.drop([\"PID\", \"Order\"], axis=1)\n",
    "    houses = houses.drop([\"Sale Condition\", \"Sale Type\", \"Yr Sold\", \"Mo Sold\"], axis=1)\n",
    "    \n",
    "    return houses"
   ]
  },
  {
   "cell_type": "markdown",
   "metadata": {},
   "source": [
    "## Feature Selection"
   ]
  },
  {
   "cell_type": "code",
   "execution_count": 21,
   "metadata": {},
   "outputs": [
    {
     "data": {
      "text/plain": [
       "<AxesSubplot:>"
      ]
     },
     "execution_count": 21,
     "metadata": {},
     "output_type": "execute_result"
    },
    {
     "data": {
      "image/png": "[encoded data removed]",
      "text/plain": [
       "<Figure size 720x720 with 2 Axes>"
      ]
     },
     "metadata": {
      "needs_background": "light"
     },
     "output_type": "display_data"
    }
   ],
   "source": [
    "import seaborn as sns\n",
    "%matplotlib inline\n",
    "\n",
    "numeric_houses = houses.select_dtypes(include=['float', 'int'])\n",
    "plt.subplots(figsize=(10,10))\n",
    "sns.heatmap(numeric_houses.corr(), cmap='BrBG')"
   ]
  },
  {
   "cell_type": "code",
   "execution_count": 22,
   "metadata": {},
   "outputs": [
    {
     "data": {
      "text/plain": [
       "SalePrice            1.000000\n",
       "Overall Qual         0.801206\n",
       "Gr Liv Area          0.717596\n",
       "Garage Cars          0.648361\n",
       "Total Bsmt SF        0.644012\n",
       "Garage Area          0.641425\n",
       "1st Flr SF           0.635185\n",
       "Years Before Sale    0.558979\n",
       "Full Bath            0.546118\n",
       "Years Since Remod    0.534985\n",
       "Mas Vnr Area         0.506983\n",
       "TotRms AbvGrd        0.498574\n",
       "Fireplaces           0.474831\n",
       "BsmtFin SF 1         0.439284\n",
       "Wood Deck SF         0.328183\n",
       "Open Porch SF        0.316262\n",
       "Half Bath            0.284871\n",
       "Bsmt Full Bath       0.276258\n",
       "2nd Flr SF           0.269601\n",
       "Lot Area             0.267520\n",
       "Bsmt Unf SF          0.182751\n",
       "Bedroom AbvGr        0.143916\n",
       "Enclosed Porch       0.128685\n",
       "Kitchen AbvGr        0.119760\n",
       "Screen Porch         0.112280\n",
       "Overall Cond         0.101540\n",
       "MS SubClass          0.085128\n",
       "Pool Area            0.068438\n",
       "Low Qual Fin SF      0.037629\n",
       "Bsmt Half Bath       0.035875\n",
       "3Ssn Porch           0.032268\n",
       "Misc Val             0.019273\n",
       "BsmtFin SF 2         0.006127\n",
       "Name: SalePrice, dtype: float64"
      ]
     },
     "execution_count": 22,
     "metadata": {},
     "output_type": "execute_result"
    }
   ],
   "source": [
    "abs_corr_coeffs = np.abs(numeric_houses.corr()[\"SalePrice\"]).sort_values(ascending=False)\n",
    "abs_corr_coeffs"
   ]
  },
  {
   "cell_type": "code",
   "execution_count": 23,
   "metadata": {},
   "outputs": [],
   "source": [
    "#Drop columns with < 0.4 correlation with SalePrice (arbitrary number)\n",
    "houses = houses.drop(abs_corr_coeffs[abs_corr_coeffs < 0.4].index, axis=1)"
   ]
  },
  {
   "cell_type": "markdown",
   "metadata": {
    "collapsed": true
   },
   "source": [
    "Which columns with nominal values should we convert to categorical?"
   ]
  },
  {
   "cell_type": "code",
   "execution_count": 24,
   "metadata": {},
   "outputs": [],
   "source": [
    "#Nominal columns according to the documentation\n",
    "nominal_cols = [\"PID\", \"MS Subclass\", \"MS Zoning\", \"Street\", \"Alley\", \n",
    "                \"Land Contour\", \"Lot Config\", \"Neighborhood\", \n",
    "                \"Condition 1\", \"Condition 2\", \"Bldg Type\", \"House Style\", \n",
    "                \"Roof Style\", \"Roof Matl\", \"Exterior 1st\", \n",
    "                \"Exterior 2nd\", \"Mas Vnr Type\", \"Foundation\", \"Heating\", \n",
    "                \"Central Air\", \"Garage Type\", \n",
    "                \"Misc Feature\", \"Sale Type\", \"Sale Condition\"]"
   ]
  },
  {
   "cell_type": "code",
   "execution_count": 25,
   "metadata": {},
   "outputs": [
    {
     "data": {
      "text/plain": [
       "['MS Zoning',\n",
       " 'Street',\n",
       " 'Land Contour',\n",
       " 'Lot Config',\n",
       " 'Neighborhood',\n",
       " 'Condition 1',\n",
       " 'Condition 2',\n",
       " 'Bldg Type',\n",
       " 'House Style',\n",
       " 'Roof Style',\n",
       " 'Roof Matl',\n",
       " 'Exterior 1st',\n",
       " 'Exterior 2nd',\n",
       " 'Foundation',\n",
       " 'Heating',\n",
       " 'Central Air']"
      ]
     },
     "execution_count": 25,
     "metadata": {},
     "output_type": "execute_result"
    }
   ],
   "source": [
    "#See which nominal columns are still in our dataframe\n",
    "convert_to_cat = [col for col in nominal_cols if col in houses.columns]\n",
    "convert_to_cat"
   ]
  },
  {
   "cell_type": "code",
   "execution_count": 26,
   "metadata": {},
   "outputs": [
    {
     "data": {
      "text/plain": [
       "Street           2\n",
       "Central Air      2\n",
       "Land Contour     4\n",
       "Lot Config       5\n",
       "Bldg Type        5\n",
       "Roof Style       6\n",
       "Foundation       6\n",
       "Heating          6\n",
       "MS Zoning        7\n",
       "Condition 2      8\n",
       "House Style      8\n",
       "Roof Matl        8\n",
       "Condition 1      9\n",
       "Exterior 1st    16\n",
       "Exterior 2nd    17\n",
       "Neighborhood    28\n",
       "dtype: int64"
      ]
     },
     "execution_count": 26,
     "metadata": {},
     "output_type": "execute_result"
    }
   ],
   "source": [
    "#Number of unique values in each nominal column (to be converted to categorical) in our dataframe \n",
    "count_unique = houses[convert_to_cat].apply(\n",
    "                        lambda cat_col: len(cat_col.unique())\n",
    "                                            ).sort_values()\n",
    "count_unique"
   ]
  },
  {
   "cell_type": "markdown",
   "metadata": {},
   "source": [
    "All of the nominal columns are candidates for being converted to categorical; however, we need a cutoff number for the number of unique values. When we dummy code a column, the number of unique values it has will be the number of columns that will be added back to the dataframe. Additionally, a column with few unique values but more than 95% of the values in the column belonging to a specific category will have low variance. Thus, that column would not be helpful for the model."
   ]
  },
  {
   "cell_type": "code",
   "execution_count": 27,
   "metadata": {},
   "outputs": [],
   "source": [
    "#We'll choose 10 as the cutoff number (arbitrary number)\n",
    "#Drop nominal columns with more than 10 unique values\n",
    "houses = houses.drop(count_unique[count_unique>10].index, axis=1)"
   ]
  },
  {
   "cell_type": "code",
   "execution_count": 28,
   "metadata": {},
   "outputs": [],
   "source": [
    "#Drop nominal columns with low variance\n",
    "\n",
    "#Update nominal columns to be converted to categorical\n",
    "convert_to_cat = count_unique[count_unique < 10].index.tolist()\n",
    "drop_cols = []\n",
    "for col in convert_to_cat:\n",
    "    count_val = houses[col].value_counts()\n",
    "    \n",
    "    #If 95% of values in a column belong to one category,\n",
    "    #keep track for dropping\n",
    "    if count_val[0]/len(houses[col]) >= 0.95:\n",
    "        drop_cols.append(col)\n",
    "        \n",
    "houses = houses.drop(drop_cols, axis=1)"
   ]
  },
  {
   "cell_type": "code",
   "execution_count": 29,
   "metadata": {},
   "outputs": [
    {
     "name": "stdout",
     "output_type": "stream",
     "text": [
      "<class 'pandas.core.frame.DataFrame'>\n",
      "Int64Index: 2927 entries, 0 to 2929\n",
      "Data columns (total 32 columns):\n",
      " #   Column             Non-Null Count  Dtype   \n",
      "---  ------             --------------  -----   \n",
      " 0   MS Zoning          2927 non-null   category\n",
      " 1   Lot Shape          2927 non-null   category\n",
      " 2   Land Contour       2927 non-null   category\n",
      " 3   Utilities          2927 non-null   category\n",
      " 4   Lot Config         2927 non-null   category\n",
      " 5   Land Slope         2927 non-null   category\n",
      " 6   Condition 1        2927 non-null   category\n",
      " 7   Bldg Type          2927 non-null   category\n",
      " 8   House Style        2927 non-null   category\n",
      " 9   Overall Qual       2927 non-null   int64   \n",
      " 10  Roof Style         2927 non-null   category\n",
      " 11  Mas Vnr Area       2927 non-null   float64 \n",
      " 12  Exter Qual         2927 non-null   category\n",
      " 13  Exter Cond         2927 non-null   category\n",
      " 14  Foundation         2927 non-null   category\n",
      " 15  BsmtFin SF 1       2927 non-null   float64 \n",
      " 16  Total Bsmt SF      2927 non-null   float64 \n",
      " 17  Heating QC         2927 non-null   category\n",
      " 18  Central Air        2927 non-null   category\n",
      " 19  1st Flr SF         2927 non-null   int64   \n",
      " 20  Gr Liv Area        2927 non-null   int64   \n",
      " 21  Full Bath          2927 non-null   int64   \n",
      " 22  Kitchen Qual       2927 non-null   category\n",
      " 23  TotRms AbvGrd      2927 non-null   int64   \n",
      " 24  Functional         2927 non-null   category\n",
      " 25  Fireplaces         2927 non-null   int64   \n",
      " 26  Garage Cars        2927 non-null   float64 \n",
      " 27  Garage Area        2927 non-null   float64 \n",
      " 28  Paved Drive        2927 non-null   category\n",
      " 29  SalePrice          2927 non-null   int64   \n",
      " 30  Years Before Sale  2927 non-null   int64   \n",
      " 31  Years Since Remod  2927 non-null   int64   \n",
      "dtypes: category(18), float64(5), int64(9)\n",
      "memory usage: 398.5 KB\n"
     ]
    }
   ],
   "source": [
    "#We will now convert the text columns to categorical\n",
    "text_cols = houses.select_dtypes(include=[\"object\"])\n",
    "houses[text_cols.columns] = text_cols.apply(\n",
    "                                lambda col: col.astype(\"category\")\n",
    "                                            )\n",
    "houses.info()"
   ]
  },
  {
   "cell_type": "code",
   "execution_count": 30,
   "metadata": {},
   "outputs": [],
   "source": [
    "#Create dummy columns\n",
    "dummy = pd.get_dummies(houses.select_dtypes(include=[\"category\"]))\n",
    "\n",
    "#Add dummy columns to dataframe\n",
    "houses = pd.concat(\n",
    "                [houses,\n",
    "                 dummy],\n",
    "                axis=1)\n",
    "\n",
    "#Drop original categorical columns\n",
    "houses = houses.drop(text_cols.columns, axis=1)"
   ]
  },
  {
   "cell_type": "markdown",
   "metadata": {},
   "source": [
    "Now that we've dealt with nominal columns, which columns are currently numerical but need to be encoded as categorical instead, since the numbers don't have any semantic meaning?\n",
    "   * Based on the documentation, `Overall Qual` and `Overall Cond`.\n",
    "   * We've already dropped `Overall Cond` earlier when we were dropping columns with < 0.4 absolute correlation coefficients with `SalePrice`."
   ]
  },
  {
   "cell_type": "code",
   "execution_count": 31,
   "metadata": {},
   "outputs": [
    {
     "data": {
      "text/plain": [
       "5     825\n",
       "6     732\n",
       "7     602\n",
       "8     349\n",
       "4     226\n",
       "9     107\n",
       "3      40\n",
       "10     29\n",
       "2      13\n",
       "1       4\n",
       "Name: Overall Qual, dtype: int64"
      ]
     },
     "execution_count": 31,
     "metadata": {},
     "output_type": "execute_result"
    }
   ],
   "source": [
    "houses[\"Overall Qual\"].value_counts()"
   ]
  },
  {
   "cell_type": "code",
   "execution_count": 32,
   "metadata": {},
   "outputs": [],
   "source": [
    "#Add dummy columns to dataframe and drop original column `Overall Qual`\n",
    "dummy_num = pd.get_dummies(houses[\"Overall Qual\"].astype(\"category\"))\n",
    "houses = (pd.concat(\n",
    "                [houses,\n",
    "                 dummy_num],\n",
    "                axis=1)\n",
    "            .drop(\"Overall Qual\", axis=1))"
   ]
  },
  {
   "cell_type": "code",
   "execution_count": 33,
   "metadata": {
    "scrolled": true
   },
   "outputs": [
    {
     "name": "stdout",
     "output_type": "stream",
     "text": [
      "<class 'pandas.core.frame.DataFrame'>\n",
      "Int64Index: 2927 entries, 0 to 2929\n",
      "Columns: 115 entries, Mas Vnr Area to 10\n",
      "dtypes: float64(5), int64(8), uint8(102)\n",
      "memory usage: 611.7 KB\n"
     ]
    }
   ],
   "source": [
    "houses.info()"
   ]
  },
  {
   "cell_type": "markdown",
   "metadata": {},
   "source": [
    "Let's now update `select_features()` to reflect all these changes in a more concise look."
   ]
  },
  {
   "cell_type": "code",
   "execution_count": 34,
   "metadata": {},
   "outputs": [],
   "source": [
    "def select_features(houses, coeff_threshold=0.4, unique_threshold=10):\n",
    "    #Drop numeric columns with < coeff_threshold correlation with SalePrice\n",
    "    numeric_houses = houses.select_dtypes(include=['float', 'int'])\n",
    "    abs_corr_coeffs = np.abs(numeric_houses.corr()[\"SalePrice\"]).sort_values(ascending=False)\n",
    "    houses = houses.drop(abs_corr_coeffs[abs_corr_coeffs < coeff_threshold].index, axis=1)\n",
    "    \n",
    "    #Drop text columns with > unique_threshold number of unique values\n",
    "    nominal_cols = [\"PID\", \"MS Subclass\", \"MS Zoning\", \"Street\", \"Alley\", \n",
    "                \"Land Contour\", \"Lot Config\", \"Neighborhood\", \n",
    "                \"Condition 1\", \"Condition 2\", \"Bldg Type\", \"House Style\", \n",
    "                \"Roof Style\", \"Roof Matl\", \"Exterior 1st\", \n",
    "                \"Exterior 2nd\", \"Mas Vnr Type\", \"Foundation\", \"Heating\", \n",
    "                \"Central Air\", \"Garage Type\", \n",
    "                \"Misc Feature\", \"Sale Type\", \"Sale Condition\"]\n",
    "    convert_to_cat = [col for col in nominal_cols if col in houses.columns]\n",
    "    count_unique = houses[convert_to_cat].apply(\n",
    "                            lambda cat_col: len(cat_col.unique())\n",
    "                                                ).sort_values()\n",
    "    houses = houses.drop(count_unique[count_unique > unique_threshold].index, axis=1)\n",
    "    \n",
    "    #Drop text columns with low variance\n",
    "    convert_to_cat = count_unique[count_unique < unique_threshold].index.tolist()\n",
    "    drop_cols = []\n",
    "    for col in convert_to_cat:\n",
    "        count_val = houses[col].value_counts()\n",
    "        if count_val[0]/len(houses[col]) >= 0.95:\n",
    "            drop_cols.append(col)\n",
    "    houses = houses.drop(drop_cols, axis=1)\n",
    "    \n",
    "    #We will now convert the text columns to categorical\n",
    "    text_cols = houses.select_dtypes(include=[\"object\"])\n",
    "    houses[text_cols.columns] = text_cols.apply(\n",
    "                                    lambda col: col.astype(\"category\")\n",
    "                                                )\n",
    "    \n",
    "    #Dummy code\n",
    "    dummy = pd.get_dummies(houses.select_dtypes(include=[\"category\"]))\n",
    "    houses = pd.concat(\n",
    "                    [houses,\n",
    "                     dummy],\n",
    "                    axis=1)\n",
    "    houses = houses.drop(text_cols.columns, axis=1)\n",
    "    \n",
    "    #Numerical ordinal -> categorical\n",
    "    if abs_corr_coeffs[\"Overall Qual\"] > coeff_threshold:\n",
    "        dummy_num = pd.get_dummies(houses[\"Overall Qual\"].astype(\"category\"))\n",
    "        houses = (pd.concat(\n",
    "                        [houses,\n",
    "                         dummy_num],\n",
    "                        axis=1)\n",
    "                    .drop(\"Overall Qual\", axis=1))\n",
    "    \n",
    "    return houses"
   ]
  },
  {
   "cell_type": "markdown",
   "metadata": {},
   "source": [
    "## Train and Test"
   ]
  },
  {
   "cell_type": "code",
   "execution_count": 35,
   "metadata": {},
   "outputs": [],
   "source": [
    "def train_and_test(houses, k=0):\n",
    "    features = houses.columns.drop(\"SalePrice\")\n",
    "    target = \"SalePrice\"\n",
    "    \n",
    "    #Holdout validation\n",
    "    if k==0:\n",
    "        train = houses[:1460]\n",
    "        test = houses[1460:]\n",
    "        \n",
    "        model = LinearRegression()\n",
    "        model.fit(train[features], train[target])\n",
    "        predictions = model.predict(test[features])\n",
    "        rmse = np.sqrt(mean_squared_error(test[target], predictions))\n",
    "        r2 = r2_score(test[target], predictions)\n",
    "        \n",
    "        return rmse, r2\n",
    "    \n",
    "    elif k==1:\n",
    "        #randomize all rows\n",
    "        houses = houses.sample(frac=1, random_state=1, axis=0)\n",
    "        fold_one = houses[:1460]\n",
    "        fold_two = houses[1460:]\n",
    "        \n",
    "        model = LinearRegression()\n",
    "        \n",
    "        model.fit(fold_one[features], fold_one[target])\n",
    "        predictions1 = model.predict(fold_two[features])\n",
    "        rmse1 = np.sqrt(mean_squared_error(fold_two[target], predictions1))\n",
    "        r2_1 = r2_score(fold_two[target], predictions1)\n",
    "        \n",
    "        model.fit(fold_two[features], fold_two[target])\n",
    "        predictions2 = model.predict(fold_one[features])\n",
    "        rmse2 = np.sqrt(mean_squared_error(fold_one[target], predictions2))\n",
    "        r2_2 = r2_score(fold_one[target], predictions2)\n",
    "        \n",
    "        avg_rmse = np.mean([rmse1, rmse2])\n",
    "        avg_r2 = np.mean([r2_1, r2_2])\n",
    "        return avg_rmse, avg_r2\n",
    "    \n",
    "    elif k>1:\n",
    "        kf = KFold(k, shuffle=True, random_state=1)\n",
    "        model = LinearRegression()\n",
    "#         mses = cross_val_score(model, X=houses[features], y=houses[target], scoring=\"neg_mean_squared_error\", cv=kf)\n",
    "#         rmses = np.sqrt(np.abs(mses))\n",
    "#         avg_rmse = np.mean(rmses)\n",
    "\n",
    "#         return avg_rmse\n",
    "        scores = cross_validate(model, X=houses[features], y=houses[target], scoring=(\"neg_mean_squared_error\", \"r2\"), cv=kf)\n",
    "        rmses = np.sqrt(np.abs(scores[\"test_neg_mean_squared_error\"]))\n",
    "        avg_rmse = np.mean(rmses)\n",
    "        avg_r2 = np.mean(scores[\"test_r2\"])\n",
    "        return avg_rmse, avg_r2"
   ]
  },
  {
   "cell_type": "markdown",
   "metadata": {},
   "source": [
    "Let's load in the data again and apply all the functions we've made."
   ]
  },
  {
   "cell_type": "code",
   "execution_count": 36,
   "metadata": {},
   "outputs": [
    {
     "data": {
      "text/plain": [
       "(27409.49864896476, 0.8771848647070597)"
      ]
     },
     "execution_count": 36,
     "metadata": {},
     "output_type": "execute_result"
    }
   ],
   "source": [
    "houses = pd.read_csv(\"AmesHousing.tsv\", delimiter=\"\\t\")\n",
    "houses = transform_features(houses)\n",
    "houses = select_features(houses, 0.3)\n",
    "avg_rmse, avg_r2 = train_and_test(houses, k=10)\n",
    "\n",
    "avg_rmse, avg_r2"
   ]
  },
  {
   "cell_type": "markdown",
   "metadata": {},
   "source": [
    "## Conclusion\n",
    "Our Linear Regression model that predicts a house sale price in Ames, Iowa has an average R2 score of 0.877 with an average RMSE of 27409.50. Our model did well, but in today's housing market, an error of about $27,500 is critical as house prices go up. Next steps would involve using RFECV that would potentially increase the model score, as we've only dropped columns that had a low correlation with our target column, and not the columns that have a high correlation with each other. "
   ]
  }
 ],
 "metadata": {
  "anaconda-cloud": {},
  "kernelspec": {
   "display_name": "Python 3 (ipykernel)",
   "language": "python",
   "name": "python3"
  },
  "language_info": {
   "codemirror_mode": {
    "name": "ipython",
    "version": 3
   },
   "file_extension": ".py",
   "mimetype": "text/x-python",
   "name": "python",
   "nbconvert_exporter": "python",
   "pygments_lexer": "ipython3",
   "version": "3.9.7"
  }
 },
 "nbformat": 4,
 "nbformat_minor": 2
}
